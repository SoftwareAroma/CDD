{
  "cells": [
    {
      "cell_type": "code",
      "execution_count": 1,
      "metadata": {
        "id": "ZAQdDF8Mc4Pm"
      },
      "outputs": [],
      "source": [
        "# detection models\n",
        "detection_model_path = 'model/faster_rcnn_state.pth'"
      ]
    },
    {
      "cell_type": "code",
      "execution_count": 2,
      "metadata": {
        "id": "9f8Z_K1peX3o"
      },
      "outputs": [],
      "source": [
        "import torch\n",
        "from torch.utils.mobile_optimizer import optimize_for_mobile\n",
        "from PIL import Image\n",
        "import cv2\n",
        "import numpy as np\n",
        "import torchvision\n",
        "import os\n",
        "import torch\n",
        "from torch.quantization import QuantStub, DeQuantStub\n",
        "\n",
        "from torchvision.models.detection.faster_rcnn import FastRCNNPredictor, FasterRCNN_ResNet50_FPN_Weights\n",
        "from torchvision.models.detection import FasterRCNN\n",
        "from torchvision.models.detection.rpn import AnchorGenerator"
      ]
    },
    {
      "cell_type": "code",
      "execution_count": 3,
      "metadata": {
        "id": "2xCCEsXyexyi"
      },
      "outputs": [],
      "source": [
        "def print_model_size(mdl):\n",
        "    torch.save(mdl.state_dict(), \"tmp.pt\")\n",
        "    print(\"%.2f MB\" %(os.path.getsize(\"tmp.pt\")/1e6))\n",
        "    os.remove('tmp.pt')"
      ]
    },
    {
      "cell_type": "code",
      "execution_count": 4,
      "metadata": {
        "colab": {
          "base_uri": "https://localhost:8080/"
        },
        "id": "mWI1u7WgebTH",
        "outputId": "028f1bdc-482d-49d8-e445-412edd32c78b"
      },
      "outputs": [
        {
          "data": {
            "text/plain": [
              "['none', 'onednn', 'x86', 'fbgemm']"
            ]
          },
          "execution_count": 4,
          "metadata": {},
          "output_type": "execute_result"
        }
      ],
      "source": [
        "torch.backends.quantized.supported_engines"
      ]
    },
    {
      "cell_type": "code",
      "execution_count": 5,
      "metadata": {
        "id": "VgWBz2Xhei9U"
      },
      "outputs": [],
      "source": [
        "map_location=\"cpu\"\n",
        "backend = \"qnnpack\""
      ]
    },
    {
      "cell_type": "code",
      "execution_count": 7,
      "metadata": {
        "colab": {
          "base_uri": "https://localhost:8080/"
        },
        "id": "aMDmawSxhfB5",
        "outputId": "d0215786-a751-44c5-d0e6-cfb8d636cbb3"
      },
      "outputs": [],
      "source": [
        "# load  a model; pre-trained on COCO\n",
        "detection_model = torchvision.models.detection.fasterrcnn_resnet50_fpn(weights=None, weights_backbone=None)  # (pretrained=False, pretrained_backbone=False)\n",
        "WEIGHTS_FILE = detection_model_path\n",
        "num_classes = 23\n",
        "# get number of input features for the classifier\n",
        "in_features = detection_model.roi_heads.box_predictor.cls_score.in_features\n",
        "# replace the pre-trained head with a new one\n",
        "detection_model.roi_heads.box_predictor = FastRCNNPredictor(in_features, num_classes)\n",
        "# Load the traines weights\n",
        "detection_model.load_state_dict(torch.load(WEIGHTS_FILE))"
      ]
    },
    {
      "cell_type": "code",
      "execution_count": null,
      "metadata": {
        "id": "0Y7GiAg6jDZQ"
      },
      "outputs": [],
      "source": [
        "# detection_model.eval()"
      ]
    },
    {
      "cell_type": "code",
      "execution_count": null,
      "metadata": {
        "colab": {
          "base_uri": "https://localhost:8080/"
        },
        "id": "aC5FeKhEe4GF",
        "outputId": "c675e17b-1079-4073-eab1-efd2c2d4535c"
      },
      "outputs": [
        {
          "name": "stderr",
          "output_type": "stream",
          "text": [
            "/usr/local/lib/python3.10/dist-packages/torch/ao/quantization/observer.py:1207: UserWarning: must run observer before calling calculate_qparams.                                    Returning default scale and zero point \n",
            "  warnings.warn(\n"
          ]
        },
        {
          "name": "stdout",
          "output_type": "stream",
          "text": [
            "166.15 MB\n",
            "42.14 MB\n"
          ]
        }
      ],
      "source": [
        "detection_model.backbone.qconfig = torch.quantization.get_default_qconfig('qnnpack')\n",
        "detection_model.qconfig = torch.quantization.get_default_qconfig(backend)\n",
        "torch.backends.quantized.engine = backend\n",
        "model_static_quantized = torch.quantization.prepare(detection_model, inplace=False)\n",
        "static_quantized_model = torch.quantization.convert(model_static_quantized, inplace=False)\n",
        "\n",
        "print_model_size(detection_model) # will print original model size\n",
        "print_model_size(static_quantized_model) ## will print quantized model size"
      ]
    },
    {
      "cell_type": "code",
      "execution_count": null,
      "metadata": {
        "colab": {
          "base_uri": "https://localhost:8080/"
        },
        "id": "sULNYdb1oAyg",
        "outputId": "8fba036f-d249-4266-c691-0b24ac14aeff"
      },
      "outputs": [
        {
          "data": {
            "text/plain": [
              "RecursiveScriptModule(\n",
              "  original_name=FasterRCNN\n",
              "  (transform): RecursiveScriptModule(original_name=GeneralizedRCNNTransform)\n",
              "  (backbone): RecursiveScriptModule(\n",
              "    original_name=BackboneWithFPN\n",
              "    (body): RecursiveScriptModule(\n",
              "      original_name=IntermediateLayerGetter\n",
              "      (conv1): RecursiveScriptModule(original_name=Conv2d)\n",
              "      (bn1): RecursiveScriptModule(original_name=BatchNorm2d)\n",
              "      (relu): RecursiveScriptModule(original_name=ReLU)\n",
              "      (maxpool): RecursiveScriptModule(original_name=MaxPool2d)\n",
              "      (layer1): RecursiveScriptModule(\n",
              "        original_name=Sequential\n",
              "        (0): RecursiveScriptModule(\n",
              "          original_name=Bottleneck\n",
              "          (conv1): RecursiveScriptModule(original_name=Conv2d)\n",
              "          (bn1): RecursiveScriptModule(original_name=BatchNorm2d)\n",
              "          (conv2): RecursiveScriptModule(original_name=Conv2d)\n",
              "          (bn2): RecursiveScriptModule(original_name=BatchNorm2d)\n",
              "          (conv3): RecursiveScriptModule(original_name=Conv2d)\n",
              "          (bn3): RecursiveScriptModule(original_name=BatchNorm2d)\n",
              "          (relu): RecursiveScriptModule(original_name=ReLU)\n",
              "          (downsample): RecursiveScriptModule(\n",
              "            original_name=Sequential\n",
              "            (0): RecursiveScriptModule(original_name=Conv2d)\n",
              "            (1): RecursiveScriptModule(original_name=BatchNorm2d)\n",
              "          )\n",
              "        )\n",
              "        (1): RecursiveScriptModule(\n",
              "          original_name=Bottleneck\n",
              "          (conv1): RecursiveScriptModule(original_name=Conv2d)\n",
              "          (bn1): RecursiveScriptModule(original_name=BatchNorm2d)\n",
              "          (conv2): RecursiveScriptModule(original_name=Conv2d)\n",
              "          (bn2): RecursiveScriptModule(original_name=BatchNorm2d)\n",
              "          (conv3): RecursiveScriptModule(original_name=Conv2d)\n",
              "          (bn3): RecursiveScriptModule(original_name=BatchNorm2d)\n",
              "          (relu): RecursiveScriptModule(original_name=ReLU)\n",
              "        )\n",
              "        (2): RecursiveScriptModule(\n",
              "          original_name=Bottleneck\n",
              "          (conv1): RecursiveScriptModule(original_name=Conv2d)\n",
              "          (bn1): RecursiveScriptModule(original_name=BatchNorm2d)\n",
              "          (conv2): RecursiveScriptModule(original_name=Conv2d)\n",
              "          (bn2): RecursiveScriptModule(original_name=BatchNorm2d)\n",
              "          (conv3): RecursiveScriptModule(original_name=Conv2d)\n",
              "          (bn3): RecursiveScriptModule(original_name=BatchNorm2d)\n",
              "          (relu): RecursiveScriptModule(original_name=ReLU)\n",
              "        )\n",
              "      )\n",
              "      (layer2): RecursiveScriptModule(\n",
              "        original_name=Sequential\n",
              "        (0): RecursiveScriptModule(\n",
              "          original_name=Bottleneck\n",
              "          (conv1): RecursiveScriptModule(original_name=Conv2d)\n",
              "          (bn1): RecursiveScriptModule(original_name=BatchNorm2d)\n",
              "          (conv2): RecursiveScriptModule(original_name=Conv2d)\n",
              "          (bn2): RecursiveScriptModule(original_name=BatchNorm2d)\n",
              "          (conv3): RecursiveScriptModule(original_name=Conv2d)\n",
              "          (bn3): RecursiveScriptModule(original_name=BatchNorm2d)\n",
              "          (relu): RecursiveScriptModule(original_name=ReLU)\n",
              "          (downsample): RecursiveScriptModule(\n",
              "            original_name=Sequential\n",
              "            (0): RecursiveScriptModule(original_name=Conv2d)\n",
              "            (1): RecursiveScriptModule(original_name=BatchNorm2d)\n",
              "          )\n",
              "        )\n",
              "        (1): RecursiveScriptModule(\n",
              "          original_name=Bottleneck\n",
              "          (conv1): RecursiveScriptModule(original_name=Conv2d)\n",
              "          (bn1): RecursiveScriptModule(original_name=BatchNorm2d)\n",
              "          (conv2): RecursiveScriptModule(original_name=Conv2d)\n",
              "          (bn2): RecursiveScriptModule(original_name=BatchNorm2d)\n",
              "          (conv3): RecursiveScriptModule(original_name=Conv2d)\n",
              "          (bn3): RecursiveScriptModule(original_name=BatchNorm2d)\n",
              "          (relu): RecursiveScriptModule(original_name=ReLU)\n",
              "        )\n",
              "        (2): RecursiveScriptModule(\n",
              "          original_name=Bottleneck\n",
              "          (conv1): RecursiveScriptModule(original_name=Conv2d)\n",
              "          (bn1): RecursiveScriptModule(original_name=BatchNorm2d)\n",
              "          (conv2): RecursiveScriptModule(original_name=Conv2d)\n",
              "          (bn2): RecursiveScriptModule(original_name=BatchNorm2d)\n",
              "          (conv3): RecursiveScriptModule(original_name=Conv2d)\n",
              "          (bn3): RecursiveScriptModule(original_name=BatchNorm2d)\n",
              "          (relu): RecursiveScriptModule(original_name=ReLU)\n",
              "        )\n",
              "        (3): RecursiveScriptModule(\n",
              "          original_name=Bottleneck\n",
              "          (conv1): RecursiveScriptModule(original_name=Conv2d)\n",
              "          (bn1): RecursiveScriptModule(original_name=BatchNorm2d)\n",
              "          (conv2): RecursiveScriptModule(original_name=Conv2d)\n",
              "          (bn2): RecursiveScriptModule(original_name=BatchNorm2d)\n",
              "          (conv3): RecursiveScriptModule(original_name=Conv2d)\n",
              "          (bn3): RecursiveScriptModule(original_name=BatchNorm2d)\n",
              "          (relu): RecursiveScriptModule(original_name=ReLU)\n",
              "        )\n",
              "      )\n",
              "      (layer3): RecursiveScriptModule(\n",
              "        original_name=Sequential\n",
              "        (0): RecursiveScriptModule(\n",
              "          original_name=Bottleneck\n",
              "          (conv1): RecursiveScriptModule(original_name=Conv2d)\n",
              "          (bn1): RecursiveScriptModule(original_name=BatchNorm2d)\n",
              "          (conv2): RecursiveScriptModule(original_name=Conv2d)\n",
              "          (bn2): RecursiveScriptModule(original_name=BatchNorm2d)\n",
              "          (conv3): RecursiveScriptModule(original_name=Conv2d)\n",
              "          (bn3): RecursiveScriptModule(original_name=BatchNorm2d)\n",
              "          (relu): RecursiveScriptModule(original_name=ReLU)\n",
              "          (downsample): RecursiveScriptModule(\n",
              "            original_name=Sequential\n",
              "            (0): RecursiveScriptModule(original_name=Conv2d)\n",
              "            (1): RecursiveScriptModule(original_name=BatchNorm2d)\n",
              "          )\n",
              "        )\n",
              "        (1): RecursiveScriptModule(\n",
              "          original_name=Bottleneck\n",
              "          (conv1): RecursiveScriptModule(original_name=Conv2d)\n",
              "          (bn1): RecursiveScriptModule(original_name=BatchNorm2d)\n",
              "          (conv2): RecursiveScriptModule(original_name=Conv2d)\n",
              "          (bn2): RecursiveScriptModule(original_name=BatchNorm2d)\n",
              "          (conv3): RecursiveScriptModule(original_name=Conv2d)\n",
              "          (bn3): RecursiveScriptModule(original_name=BatchNorm2d)\n",
              "          (relu): RecursiveScriptModule(original_name=ReLU)\n",
              "        )\n",
              "        (2): RecursiveScriptModule(\n",
              "          original_name=Bottleneck\n",
              "          (conv1): RecursiveScriptModule(original_name=Conv2d)\n",
              "          (bn1): RecursiveScriptModule(original_name=BatchNorm2d)\n",
              "          (conv2): RecursiveScriptModule(original_name=Conv2d)\n",
              "          (bn2): RecursiveScriptModule(original_name=BatchNorm2d)\n",
              "          (conv3): RecursiveScriptModule(original_name=Conv2d)\n",
              "          (bn3): RecursiveScriptModule(original_name=BatchNorm2d)\n",
              "          (relu): RecursiveScriptModule(original_name=ReLU)\n",
              "        )\n",
              "        (3): RecursiveScriptModule(\n",
              "          original_name=Bottleneck\n",
              "          (conv1): RecursiveScriptModule(original_name=Conv2d)\n",
              "          (bn1): RecursiveScriptModule(original_name=BatchNorm2d)\n",
              "          (conv2): RecursiveScriptModule(original_name=Conv2d)\n",
              "          (bn2): RecursiveScriptModule(original_name=BatchNorm2d)\n",
              "          (conv3): RecursiveScriptModule(original_name=Conv2d)\n",
              "          (bn3): RecursiveScriptModule(original_name=BatchNorm2d)\n",
              "          (relu): RecursiveScriptModule(original_name=ReLU)\n",
              "        )\n",
              "        (4): RecursiveScriptModule(\n",
              "          original_name=Bottleneck\n",
              "          (conv1): RecursiveScriptModule(original_name=Conv2d)\n",
              "          (bn1): RecursiveScriptModule(original_name=BatchNorm2d)\n",
              "          (conv2): RecursiveScriptModule(original_name=Conv2d)\n",
              "          (bn2): RecursiveScriptModule(original_name=BatchNorm2d)\n",
              "          (conv3): RecursiveScriptModule(original_name=Conv2d)\n",
              "          (bn3): RecursiveScriptModule(original_name=BatchNorm2d)\n",
              "          (relu): RecursiveScriptModule(original_name=ReLU)\n",
              "        )\n",
              "        (5): RecursiveScriptModule(\n",
              "          original_name=Bottleneck\n",
              "          (conv1): RecursiveScriptModule(original_name=Conv2d)\n",
              "          (bn1): RecursiveScriptModule(original_name=BatchNorm2d)\n",
              "          (conv2): RecursiveScriptModule(original_name=Conv2d)\n",
              "          (bn2): RecursiveScriptModule(original_name=BatchNorm2d)\n",
              "          (conv3): RecursiveScriptModule(original_name=Conv2d)\n",
              "          (bn3): RecursiveScriptModule(original_name=BatchNorm2d)\n",
              "          (relu): RecursiveScriptModule(original_name=ReLU)\n",
              "        )\n",
              "      )\n",
              "      (layer4): RecursiveScriptModule(\n",
              "        original_name=Sequential\n",
              "        (0): RecursiveScriptModule(\n",
              "          original_name=Bottleneck\n",
              "          (conv1): RecursiveScriptModule(original_name=Conv2d)\n",
              "          (bn1): RecursiveScriptModule(original_name=BatchNorm2d)\n",
              "          (conv2): RecursiveScriptModule(original_name=Conv2d)\n",
              "          (bn2): RecursiveScriptModule(original_name=BatchNorm2d)\n",
              "          (conv3): RecursiveScriptModule(original_name=Conv2d)\n",
              "          (bn3): RecursiveScriptModule(original_name=BatchNorm2d)\n",
              "          (relu): RecursiveScriptModule(original_name=ReLU)\n",
              "          (downsample): RecursiveScriptModule(\n",
              "            original_name=Sequential\n",
              "            (0): RecursiveScriptModule(original_name=Conv2d)\n",
              "            (1): RecursiveScriptModule(original_name=BatchNorm2d)\n",
              "          )\n",
              "        )\n",
              "        (1): RecursiveScriptModule(\n",
              "          original_name=Bottleneck\n",
              "          (conv1): RecursiveScriptModule(original_name=Conv2d)\n",
              "          (bn1): RecursiveScriptModule(original_name=BatchNorm2d)\n",
              "          (conv2): RecursiveScriptModule(original_name=Conv2d)\n",
              "          (bn2): RecursiveScriptModule(original_name=BatchNorm2d)\n",
              "          (conv3): RecursiveScriptModule(original_name=Conv2d)\n",
              "          (bn3): RecursiveScriptModule(original_name=BatchNorm2d)\n",
              "          (relu): RecursiveScriptModule(original_name=ReLU)\n",
              "        )\n",
              "        (2): RecursiveScriptModule(\n",
              "          original_name=Bottleneck\n",
              "          (conv1): RecursiveScriptModule(original_name=Conv2d)\n",
              "          (bn1): RecursiveScriptModule(original_name=BatchNorm2d)\n",
              "          (conv2): RecursiveScriptModule(original_name=Conv2d)\n",
              "          (bn2): RecursiveScriptModule(original_name=BatchNorm2d)\n",
              "          (conv3): RecursiveScriptModule(original_name=Conv2d)\n",
              "          (bn3): RecursiveScriptModule(original_name=BatchNorm2d)\n",
              "          (relu): RecursiveScriptModule(original_name=ReLU)\n",
              "        )\n",
              "      )\n",
              "    )\n",
              "    (fpn): RecursiveScriptModule(\n",
              "      original_name=FeaturePyramidNetwork\n",
              "      (inner_blocks): RecursiveScriptModule(\n",
              "        original_name=ModuleList\n",
              "        (0): RecursiveScriptModule(\n",
              "          original_name=Conv2dNormActivation\n",
              "          (0): RecursiveScriptModule(original_name=Conv2d)\n",
              "        )\n",
              "        (1): RecursiveScriptModule(\n",
              "          original_name=Conv2dNormActivation\n",
              "          (0): RecursiveScriptModule(original_name=Conv2d)\n",
              "        )\n",
              "        (2): RecursiveScriptModule(\n",
              "          original_name=Conv2dNormActivation\n",
              "          (0): RecursiveScriptModule(original_name=Conv2d)\n",
              "        )\n",
              "        (3): RecursiveScriptModule(\n",
              "          original_name=Conv2dNormActivation\n",
              "          (0): RecursiveScriptModule(original_name=Conv2d)\n",
              "        )\n",
              "      )\n",
              "      (layer_blocks): RecursiveScriptModule(\n",
              "        original_name=ModuleList\n",
              "        (0): RecursiveScriptModule(\n",
              "          original_name=Conv2dNormActivation\n",
              "          (0): RecursiveScriptModule(original_name=Conv2d)\n",
              "        )\n",
              "        (1): RecursiveScriptModule(\n",
              "          original_name=Conv2dNormActivation\n",
              "          (0): RecursiveScriptModule(original_name=Conv2d)\n",
              "        )\n",
              "        (2): RecursiveScriptModule(\n",
              "          original_name=Conv2dNormActivation\n",
              "          (0): RecursiveScriptModule(original_name=Conv2d)\n",
              "        )\n",
              "        (3): RecursiveScriptModule(\n",
              "          original_name=Conv2dNormActivation\n",
              "          (0): RecursiveScriptModule(original_name=Conv2d)\n",
              "        )\n",
              "      )\n",
              "      (extra_blocks): RecursiveScriptModule(original_name=LastLevelMaxPool)\n",
              "    )\n",
              "  )\n",
              "  (rpn): RecursiveScriptModule(\n",
              "    original_name=RegionProposalNetwork\n",
              "    (anchor_generator): RecursiveScriptModule(original_name=AnchorGenerator)\n",
              "    (head): RecursiveScriptModule(\n",
              "      original_name=RPNHead\n",
              "      (conv): RecursiveScriptModule(\n",
              "        original_name=Sequential\n",
              "        (0): RecursiveScriptModule(\n",
              "          original_name=Conv2dNormActivation\n",
              "          (0): RecursiveScriptModule(original_name=Conv2d)\n",
              "          (1): RecursiveScriptModule(original_name=ReLU)\n",
              "        )\n",
              "      )\n",
              "      (cls_logits): RecursiveScriptModule(original_name=Conv2d)\n",
              "      (bbox_pred): RecursiveScriptModule(original_name=Conv2d)\n",
              "    )\n",
              "  )\n",
              "  (roi_heads): RecursiveScriptModule(\n",
              "    original_name=RoIHeads\n",
              "    (box_roi_pool): RecursiveScriptModule(original_name=MultiScaleRoIAlign)\n",
              "    (box_head): RecursiveScriptModule(\n",
              "      original_name=TwoMLPHead\n",
              "      (fc6): RecursiveScriptModule(\n",
              "        original_name=Linear\n",
              "        (_packed_params): RecursiveScriptModule(original_name=LinearPackedParams)\n",
              "      )\n",
              "      (fc7): RecursiveScriptModule(\n",
              "        original_name=Linear\n",
              "        (_packed_params): RecursiveScriptModule(original_name=LinearPackedParams)\n",
              "      )\n",
              "    )\n",
              "    (box_predictor): RecursiveScriptModule(\n",
              "      original_name=FastRCNNPredictor\n",
              "      (cls_score): RecursiveScriptModule(\n",
              "        original_name=Linear\n",
              "        (_packed_params): RecursiveScriptModule(original_name=LinearPackedParams)\n",
              "      )\n",
              "      (bbox_pred): RecursiveScriptModule(\n",
              "        original_name=Linear\n",
              "        (_packed_params): RecursiveScriptModule(original_name=LinearPackedParams)\n",
              "      )\n",
              "    )\n",
              "  )\n",
              ")"
            ]
          },
          "execution_count": 10,
          "metadata": {},
          "output_type": "execute_result"
        }
      ],
      "source": [
        "script_model_detection = torch.jit.script(static_quantized_model)\n",
        "script_model_detection.eval()"
      ]
    },
    {
      "cell_type": "code",
      "execution_count": null,
      "metadata": {
        "id": "GvhpRzEpk9Q9"
      },
      "outputs": [],
      "source": [
        "# quantized model path\n",
        "# quantized_model_path = '/content/drive/My Drive/models/quantized/detection_quantized_model.pt'\n",
        "mobile_models_path = '/content/drive/My Drive/models/mobile/'"
      ]
    },
    {
      "cell_type": "code",
      "execution_count": null,
      "metadata": {
        "colab": {
          "base_uri": "https://localhost:8080/"
        },
        "id": "bzLrN91WluJ0",
        "outputId": "9a819234-ccbc-4e83-b51b-73af251d6cd4"
      },
      "outputs": [
        {
          "name": "stderr",
          "output_type": "stream",
          "text": [
            "/usr/local/lib/python3.10/dist-packages/torch/jit/_trace.py:787: UserWarning: The input to trace is already a ScriptModule, tracing it is a no-op. Returning the object as is.\n",
            "  warnings.warn(\n"
          ]
        }
      ],
      "source": [
        "example = torch.rand(1, 3, 224, 224)\n",
        "traced_script_module = torch.jit.trace(script_model_detection, example)\n",
        "optimized_traced_model = optimize_for_mobile(traced_script_module, backend='CPU') #backend='CPU'\n"
      ]
    },
    {
      "cell_type": "code",
      "execution_count": null,
      "metadata": {
        "colab": {
          "base_uri": "https://localhost:8080/"
        },
        "id": "0nrOmGj0q3TC",
        "outputId": "030954f2-76d3-48eb-881a-547df77de92e"
      },
      "outputs": [
        {
          "data": {
            "text/plain": [
              "RecursiveScriptModule(\n",
              "  original_name=FasterRCNN\n",
              "  (rpn): RecursiveScriptModule(\n",
              "    original_name=RegionProposalNetwork\n",
              "    (anchor_generator): RecursiveScriptModule(original_name=AnchorGenerator)\n",
              "  )\n",
              "  (roi_heads): RecursiveScriptModule(\n",
              "    original_name=RoIHeads\n",
              "    (box_roi_pool): RecursiveScriptModule(original_name=MultiScaleRoIAlign)\n",
              "  )\n",
              ")"
            ]
          },
          "execution_count": 13,
          "metadata": {},
          "output_type": "execute_result"
        }
      ],
      "source": [
        "optimized_traced_model"
      ]
    },
    {
      "cell_type": "code",
      "execution_count": null,
      "metadata": {
        "id": "pBrWRW9ApXin"
      },
      "outputs": [],
      "source": [
        "# optimized_traced_model._save_for_lite_interpreter(mobile_models_path + \"detection_model.pt\")\n",
        "torch.jit.save(optimized_traced_model, mobile_models_path + \"detection_model.pt\")"
      ]
    },
    {
      "cell_type": "code",
      "execution_count": null,
      "metadata": {
        "id": "madF2FhE6vDp"
      },
      "outputs": [],
      "source": []
    }
  ],
  "metadata": {
    "accelerator": "GPU",
    "colab": {
      "gpuType": "T4",
      "provenance": []
    },
    "kernelspec": {
      "display_name": "Python 3",
      "name": "python3"
    },
    "language_info": {
      "name": "python"
    }
  },
  "nbformat": 4,
  "nbformat_minor": 0
}
