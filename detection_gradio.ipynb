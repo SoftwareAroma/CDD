{
 "cells": [
  {
   "cell_type": "code",
   "execution_count": 15,
   "metadata": {},
   "outputs": [],
   "source": [
    "import io\n",
    "import torch\n",
    "import numpy as np\n",
    "import cv2\n",
    "import matplotlib.pyplot as plt\n",
    "import gradio as gr"
   ]
  },
  {
   "cell_type": "code",
   "execution_count": 16,
   "metadata": {},
   "outputs": [],
   "source": [
    "model_path = 'models/detection/faster_not_jit_rcnn_model.pt'\n",
    "classes= {\n",
    "    0: 'Corn Cercospora Leaf Spot',\n",
    "    1: 'Corn Common Rust',\n",
    "    2: 'Corn Healthy',\n",
    "    3: 'Corn Streak',\n",
    "    4: 'Corn Northern Leaf Blight',\n",
    "    5: 'Pepper Leaf Curl',\n",
    "    6: 'Pepper Cercospora',\n",
    "    7: 'Pepper Leaf Blight',\n",
    "    8: 'Pepper Bacterial Spot',\n",
    "    9: 'Pepper Leaf Mosaic',\n",
    "    10: 'Pepper Healthy',\n",
    "    11: 'Pepper Fusarium',\n",
    "    12: 'Pepper Septoria',\n",
    "    13: 'Pepper Late Blight',\n",
    "    14: 'Pepper Early Blight',\n",
    "    15: 'Tomato Late Blight',\n",
    "    16: 'Tomato Early Blight',\n",
    "    17: 'Tomato Bacterial Spot',\n",
    "    18: 'Tomato Septoria',\n",
    "    19: 'Tomato Fusarium',\n",
    "    20: 'Tomato Leaf Curl',\n",
    "    21: 'Tomato Healthy',\n",
    "    22: 'Tomato Mosaic'\n",
    "}"
   ]
  },
  {
   "cell_type": "code",
   "execution_count": 17,
   "metadata": {},
   "outputs": [],
   "source": [
    "# object detector\n",
    "def obj_detector(model, img):\n",
    "    # img = cv2.imread(img, cv2.IMREAD_COLOR)\n",
    "    img = cv2.cvtColor(img, cv2.COLOR_BGR2RGB).astype(np.float32)\n",
    "    img /= 255.0\n",
    "    img = torch.from_numpy(img)\n",
    "    img = img.unsqueeze(0)\n",
    "    img = img.permute(0,3,1,2)\n",
    "\n",
    "    model.eval()\n",
    "    \n",
    "    img = list(im for im in img)\n",
    "    output = model(img)\n",
    "\n",
    "    for i , _ in enumerate(img):\n",
    "        boxes = output[i]['boxes'].data.cpu().numpy()\n",
    "        scores = output[i]['scores'].data.cpu().numpy()\n",
    "        _ = output[i]['labels'].data.cpu().numpy()\n",
    "    \n",
    "    sample = img[0].permute(1,2,0).cpu().numpy()\n",
    "    sample = np.array(sample)\n",
    "    boxes = output[0]['boxes'].data.cpu().numpy()\n",
    "    name = output[0]['labels'].data.cpu().numpy()\n",
    "    scores = output[0]['scores'].data.cpu().numpy()\n",
    "    boxes = boxes.astype(np.int32)\n",
    "    names = name.tolist()\n",
    "    \n",
    "    return names, boxes, sample, scores"
   ]
  },
  {
   "cell_type": "code",
   "execution_count": 18,
   "metadata": {},
   "outputs": [],
   "source": [
    "def plot_result(sample, boxes, names):\n",
    "    plt.figure(figsize=(20,60))\n",
    "    for i,box in enumerate(boxes):\n",
    "        cv2.rectangle(\n",
    "            sample,\n",
    "            (box[0], box[1]),\n",
    "            (box[2], box[3]),\n",
    "            (0, 220, 0), 2\n",
    "        )\n",
    "        cv2.putText(\n",
    "            sample, \n",
    "            classes[names[i]], \n",
    "            (box[0],box[1]-5),\n",
    "            cv2.FONT_HERSHEY_COMPLEX ,\n",
    "            0.7,\n",
    "            (220,0,0),\n",
    "            1,\n",
    "            cv2.LINE_AA\n",
    "        )\n",
    "\n",
    "    plt.axis('off')\n",
    "    plt.imshow(sample)\n",
    "    # plt.savefig('save_image.png', bbox_inches='tight')\n",
    "\n",
    "def save_results(image, boxes, names, save_path):\n",
    "    img = image.copy()\n",
    "    for box, name in zip(boxes, names):\n",
    "        cv2.rectangle(\n",
    "            img,\n",
    "            (box[0], box[1]),\n",
    "            (box[2], box[3]),\n",
    "            (0, 220, 0), 2\n",
    "        )\n",
    "        cv2.putText(\n",
    "            img, \n",
    "            classes[name], \n",
    "            (box[0],box[1]-5),\n",
    "            cv2.FONT_HERSHEY_COMPLEX ,\n",
    "            0.7,\n",
    "            (220,0,0),\n",
    "            1,\n",
    "            cv2.LINE_AA\n",
    "        )\n",
    "    # Save the image with bounding boxes drawn\n",
    "    # cv2.imwrite(save_path, cv2.cvtColor(img, cv2.COLOR_BGR2RGB))\n",
    "    return img\n"
   ]
  },
  {
   "cell_type": "code",
   "execution_count": 19,
   "metadata": {},
   "outputs": [],
   "source": [
    "def inference_detection_model(image):\n",
    "    map_location = 'cpu'\n",
    "    model = torch.load(model_path, map_location=map_location)\n",
    "    names,boxes,_, scores = obj_detector(model, image)\n",
    "    save_path = 'result_image.jpg'\n",
    "    result_image = save_results(image, boxes, names, save_path)\n",
    "    _names = []\n",
    "    for name in names:\n",
    "        _names.append(classes[name])\n",
    "    return result_image, _names, boxes, scores"
   ]
  },
  {
   "cell_type": "code",
   "execution_count": 20,
   "metadata": {},
   "outputs": [
    {
     "name": "stdout",
     "output_type": "stream",
     "text": [
      "Running on local URL:  http://127.0.0.1:7864\n",
      "\n",
      "To create a public link, set `share=True` in `launch()`.\n"
     ]
    },
    {
     "data": {
      "text/html": [
       "<div><iframe src=\"http://127.0.0.1:7864/\" width=\"100%\" height=\"500\" allow=\"autoplay; camera; microphone; clipboard-read; clipboard-write;\" frameborder=\"0\" allowfullscreen></iframe></div>"
      ],
      "text/plain": [
       "<IPython.core.display.HTML object>"
      ]
     },
     "metadata": {},
     "output_type": "display_data"
    },
    {
     "data": {
      "text/plain": []
     },
     "execution_count": 20,
     "metadata": {},
     "output_type": "execute_result"
    }
   ],
   "source": [
    "inputs = [\n",
    "    gr.Image(label=\"Image\")\n",
    "]\n",
    "outputs = [\n",
    "    gr.Image(label=\"Result\", type='pil'), \n",
    "    gr.Text(label=\"Names\")\n",
    "]\n",
    "\n",
    "title = \"Crop Disease Detector \"\n",
    "description = \"This module detect disease that manifest symptoms on the leaves of crops. \\nIt currently works with three crops namely Corn, Tomato, Pepper\"\n",
    "\n",
    "gr.Interface(\n",
    "    fn=inference_detection_model,\n",
    "    inputs=inputs,\n",
    "    outputs=outputs,\n",
    "    title=title,\n",
    "    description=description\n",
    ").launch()"
   ]
  },
  {
   "cell_type": "code",
   "execution_count": null,
   "metadata": {},
   "outputs": [],
   "source": []
  }
 ],
 "metadata": {
  "kernelspec": {
   "display_name": "Python 3",
   "language": "python",
   "name": "python3"
  },
  "language_info": {
   "codemirror_mode": {
    "name": "ipython",
    "version": 3
   },
   "file_extension": ".py",
   "mimetype": "text/x-python",
   "name": "python",
   "nbconvert_exporter": "python",
   "pygments_lexer": "ipython3",
   "version": "3.11.6"
  }
 },
 "nbformat": 4,
 "nbformat_minor": 2
}
